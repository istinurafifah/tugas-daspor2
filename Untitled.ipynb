{
 "cells": [
  {
   "cell_type": "markdown",
   "id": "89e71c21-aca6-40ab-abec-13a30d823b39",
   "metadata": {},
   "source": [
    "<center>\n",
    "<img src=\"https://cdn.freebiesupply.com/logos/large/2x/python-5-logo-png-transparent.png\" width=\"200\">\n",
    "</center>"
   ]
  },
  {
   "cell_type": "markdown",
   "id": "8cf150f9-075d-4fd8-8770-5f486b85d8c1",
   "metadata": {},
   "source": [
    "<table>\n",
    "    <tr>\n",
    "        <td>python</td>\n",
    "    </tr>\n",
    "</table>"
   ]
  }
 ],
 "metadata": {
  "kernelspec": {
   "display_name": "Python [conda env:base] *",
   "language": "python",
   "name": "conda-base-py"
  },
  "language_info": {
   "codemirror_mode": {
    "name": "ipython",
    "version": 3
   },
   "file_extension": ".py",
   "mimetype": "text/x-python",
   "name": "python",
   "nbconvert_exporter": "python",
   "pygments_lexer": "ipython3",
   "version": "3.12.7"
  }
 },
 "nbformat": 4,
 "nbformat_minor": 5
}
